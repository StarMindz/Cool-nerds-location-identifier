{
  "nbformat": 4,
  "nbformat_minor": 0,
  "metadata": {
    "colab": {
      "provenance": [],
      "include_colab_link": true
    },
    "kernelspec": {
      "name": "python3",
      "display_name": "Python 3"
    },
    "language_info": {
      "name": "python"
    },
    "accelerator": "GPU",
    "gpuClass": "standard"
  },
  "cells": [
    {
      "cell_type": "markdown",
      "metadata": {
        "id": "view-in-github",
        "colab_type": "text"
      },
      "source": [
        "<a href=\"https://colab.research.google.com/github/StarMindz/Cool-nerds-location-identifier/blob/main/ITU_NER.ipynb\" target=\"_parent\"><img src=\"https://colab.research.google.com/assets/colab-badge.svg\" alt=\"Open In Colab\"/></a>"
      ]
    },
    {
      "cell_type": "code",
      "execution_count": null,
      "metadata": {
        "colab": {
          "base_uri": "https://localhost:8080/"
        },
        "id": "E0U6Q9dNjqMi",
        "outputId": "9fbda4b9-480d-4eed-f237-a9038bbac094"
      },
      "outputs": [
        {
          "output_type": "stream",
          "name": "stdout",
          "text": [
            "Looking in indexes: https://pypi.org/simple, https://us-python.pkg.dev/colab-wheels/public/simple/\n",
            "Requirement already satisfied: transformers in /usr/local/lib/python3.8/dist-packages (4.25.1)\n",
            "Requirement already satisfied: requests in /usr/local/lib/python3.8/dist-packages (from transformers) (2.23.0)\n",
            "Requirement already satisfied: regex!=2019.12.17 in /usr/local/lib/python3.8/dist-packages (from transformers) (2022.6.2)\n",
            "Requirement already satisfied: tokenizers!=0.11.3,<0.14,>=0.11.1 in /usr/local/lib/python3.8/dist-packages (from transformers) (0.13.2)\n",
            "Requirement already satisfied: huggingface-hub<1.0,>=0.10.0 in /usr/local/lib/python3.8/dist-packages (from transformers) (0.11.1)\n",
            "Requirement already satisfied: filelock in /usr/local/lib/python3.8/dist-packages (from transformers) (3.8.0)\n",
            "Requirement already satisfied: pyyaml>=5.1 in /usr/local/lib/python3.8/dist-packages (from transformers) (6.0)\n",
            "Requirement already satisfied: tqdm>=4.27 in /usr/local/lib/python3.8/dist-packages (from transformers) (4.64.1)\n",
            "Requirement already satisfied: numpy>=1.17 in /usr/local/lib/python3.8/dist-packages (from transformers) (1.21.6)\n",
            "Requirement already satisfied: packaging>=20.0 in /usr/local/lib/python3.8/dist-packages (from transformers) (21.3)\n",
            "Requirement already satisfied: typing-extensions>=3.7.4.3 in /usr/local/lib/python3.8/dist-packages (from huggingface-hub<1.0,>=0.10.0->transformers) (4.4.0)\n",
            "Requirement already satisfied: pyparsing!=3.0.5,>=2.0.2 in /usr/local/lib/python3.8/dist-packages (from packaging>=20.0->transformers) (3.0.9)\n",
            "Requirement already satisfied: urllib3!=1.25.0,!=1.25.1,<1.26,>=1.21.1 in /usr/local/lib/python3.8/dist-packages (from requests->transformers) (1.24.3)\n",
            "Requirement already satisfied: chardet<4,>=3.0.2 in /usr/local/lib/python3.8/dist-packages (from requests->transformers) (3.0.4)\n",
            "Requirement already satisfied: certifi>=2017.4.17 in /usr/local/lib/python3.8/dist-packages (from requests->transformers) (2022.9.24)\n",
            "Requirement already satisfied: idna<3,>=2.5 in /usr/local/lib/python3.8/dist-packages (from requests->transformers) (2.10)\n",
            "Looking in indexes: https://pypi.org/simple, https://us-python.pkg.dev/colab-wheels/public/simple/\n",
            "Requirement already satisfied: torch in /usr/local/lib/python3.8/dist-packages (1.13.0+cu116)\n",
            "Requirement already satisfied: typing-extensions in /usr/local/lib/python3.8/dist-packages (from torch) (4.4.0)\n",
            "Retrieving folder list\n",
            "Processing file 1-DjZVcd_P8PkjQo3eQWCeJeqmKIw-ntP config.json\n",
            "Processing file 1-6MVs8ugLcwjHsNhWk7GrvY2ijp1Wdfp pytorch_model.bin\n",
            "Processing file 1-BCRyuF7yqXt0z3TwbeExesU1nEBn1j2 special_tokens_map.json\n",
            "Processing file 1-SarWEZSGWN-62BymeVDnlnaymjRp3Vg tokenizer_config.json\n",
            "Processing file 1-EPzqsb6gRDT5m7Q_5pVKv7u6neJjxQE tokenizer.json\n",
            "Processing file 1-XW1Y9RwNOSTbYEtUJ4rq3_i3xe0QNRc training_args.bin\n",
            "Processing file 1-3pvDlYqLHqENgaTnzZmRHvF-F_9SVLc vocab.txt\n",
            "Retrieving folder list completed\n",
            "Building directory structure\n",
            "Building directory structure completed\n",
            "Downloading...\n",
            "From: https://drive.google.com/uc?id=1-DjZVcd_P8PkjQo3eQWCeJeqmKIw-ntP\n",
            "To: /content/un-ner.model/config.json\n",
            "100% 1.11k/1.11k [00:00<00:00, 4.23MB/s]\n",
            "Downloading...\n",
            "From: https://drive.google.com/uc?id=1-6MVs8ugLcwjHsNhWk7GrvY2ijp1Wdfp\n",
            "To: /content/un-ner.model/pytorch_model.bin\n",
            "100% 266M/266M [00:01<00:00, 188MB/s]\n",
            "Downloading...\n",
            "From: https://drive.google.com/uc?id=1-BCRyuF7yqXt0z3TwbeExesU1nEBn1j2\n",
            "To: /content/un-ner.model/special_tokens_map.json\n",
            "100% 125/125 [00:00<00:00, 453kB/s]\n",
            "Downloading...\n",
            "From: https://drive.google.com/uc?id=1-SarWEZSGWN-62BymeVDnlnaymjRp3Vg\n",
            "To: /content/un-ner.model/tokenizer_config.json\n",
            "100% 360/360 [00:00<00:00, 1.29MB/s]\n",
            "Downloading...\n",
            "From: https://drive.google.com/uc?id=1-EPzqsb6gRDT5m7Q_5pVKv7u6neJjxQE\n",
            "To: /content/un-ner.model/tokenizer.json\n",
            "100% 711k/711k [00:00<00:00, 169MB/s]\n",
            "Downloading...\n",
            "From: https://drive.google.com/uc?id=1-XW1Y9RwNOSTbYEtUJ4rq3_i3xe0QNRc\n",
            "To: /content/un-ner.model/training_args.bin\n",
            "100% 3.38k/3.38k [00:00<00:00, 11.9MB/s]\n",
            "Downloading...\n",
            "From: https://drive.google.com/uc?id=1-3pvDlYqLHqENgaTnzZmRHvF-F_9SVLc\n",
            "To: /content/un-ner.model/vocab.txt\n",
            "100% 232k/232k [00:00<00:00, 127MB/s]\n",
            "Download completed\n"
          ]
        }
      ],
      "source": [
        "#installing packages\n",
        "\n",
        "!pip install transformers\n",
        "!!pip install --upgrade --no-cache-dir gdown\n",
        "!pip install torch\n",
        "\n",
        "#Downloading the model files using gdown\n",
        "!gdown --no-check-certificate   --folder https://drive.google.com/drive/u/1/folders/15d_hqZKPR2Z8OIe4oIzFQpWc3xWeyl_j"
      ]
    },
    {
      "cell_type": "code",
      "source": [
        "import json, re, torch\n",
        "from transformers import AutoTokenizer\n",
        "from transformers import AutoModelForTokenClassification, TrainingArguments, Trainer\n",
        "from transformers import DataCollatorForTokenClassification\n",
        "\n",
        "label_list = ['CONT','CTRY','STAT','CNTY','CITY','DIST','ISL','NBHD','ST','NPOI','HPOI','OTHR','O']\n",
        "\n",
        "def predict_loc(text):\n",
        "\n",
        "    \"\"\"\n",
        "        Predicts location in texts and\n",
        "        returns their mentioned location\n",
        "    \"\"\"\n",
        "\n",
        "    tokenizer = AutoTokenizer.from_pretrained('./un-ner.model/')\n",
        "\n",
        "    tokens = tokenizer(text)\n",
        "    torch.tensor(tokens['input_ids']).unsqueeze(0).size()\n",
        "\n",
        "    model = AutoModelForTokenClassification.from_pretrained('./un-ner.model/', num_labels=len(label_list))\n",
        "    predictions = model.forward(input_ids=torch.tensor(tokens['input_ids']).unsqueeze(0), attention_mask=torch.tensor(tokens['attention_mask']).unsqueeze(0))\n",
        "    predictions = torch.argmax(predictions.logits.squeeze(), axis=1)\n",
        "    predictions = [label_list[i] for i in predictions]\n",
        "\n",
        "    words = tokenizer.batch_decode(tokens['input_ids'])\n",
        "    out_labeled = {x:y for x,y in zip(words, predictions)}\n",
        "\n",
        "    return out_labeled\n",
        "\n",
        "\n",
        "def load_input_tweets(input_path):\n",
        "\n",
        "    \"\"\"\n",
        "      function that reads the inputed tweets\n",
        "    \"\"\"\n",
        "\n",
        "    tweets = {}\n",
        "    for line in open(input_path, encoding='utf-8').read().splitlines(): \n",
        "        tweet = json.loads(line)\n",
        "        tweets[tweet[\"tweet_id\"]] = tweet[\"text\"]\n",
        "    return tweets\n",
        "\n",
        "\n",
        "def model_output(tweets, path):\n",
        "\n",
        "    \"\"\"\n",
        "       writes the model output to a json file\n",
        "    \"\"\"\n",
        "    with open(path, 'w') as file:\n",
        "        \n",
        "        for i in range(len(tweets)):\n",
        "            output = {}\n",
        "            output[\"tweet_id\"] = list(tweets.keys())[i]\n",
        "            text = tweets[list(tweets.keys())[i]]\n",
        "            prediction = predict_loc(text)\n",
        "            locations = []\n",
        "            for i in range(len(prediction)):\n",
        "                if list(prediction.values())[i] != 'O':\n",
        "                    word = list(prediction.keys())[i]\n",
        "                    if word not in text.lower():\n",
        "                        continue\n",
        "                    start, end = re.search(word, text.lower()).span()\n",
        "                    locations.append({\"text\":text[start:end], \"start_offset\": start, \"end_offset\": end})\n",
        "            output[\"location_mentions\"] = locations\n",
        "            file.write(json.dumps(output) + \"\\n\")\n",
        "\n",
        "\n",
        "def predict(input_path, output_path):\n",
        "  \n",
        "    \"\"\"\n",
        "        make the lmr prediction\n",
        "    \"\"\"\n",
        "    tweets = load_input_tweets(input_path)\n",
        "\n",
        "    model_output(tweets, output_path)\n",
        "\n",
        "    print(\"Model finished predictions!!!\")\n"
      ],
      "metadata": {
        "id": "WnjiMo4WlEJb"
      },
      "execution_count": null,
      "outputs": []
    },
    {
      "cell_type": "code",
      "source": [
        "input_file = 'input.jsonl'\n",
        "output_file = 'output.jsonl'\n",
        "\n",
        "predict(input_file, output_file)"
      ],
      "metadata": {
        "colab": {
          "base_uri": "https://localhost:8080/"
        },
        "id": "GFs-IuZEoofR",
        "outputId": "5a2bc450-3229-4f95-c651-0bd0d45cb875"
      },
      "execution_count": null,
      "outputs": [
        {
          "output_type": "stream",
          "name": "stdout",
          "text": [
            "Model finished predictions!!!\n"
          ]
        }
      ]
    }
  ]
}